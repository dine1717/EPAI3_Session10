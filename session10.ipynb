{
 "metadata": {
  "language_info": {
   "codemirror_mode": {
    "name": "ipython",
    "version": 3
   },
   "file_extension": ".py",
   "mimetype": "text/x-python",
   "name": "python",
   "nbconvert_exporter": "python",
   "pygments_lexer": "ipython3",
   "version": "3.8.3"
  },
  "orig_nbformat": 2,
  "kernelspec": {
   "name": "python3",
   "display_name": "Python 3.8.3 64-bit ('base': conda)",
   "metadata": {
    "interpreter": {
     "hash": "7798fa333b9d4b8bcd5d88812bb82ea248dcae56209490eced67e5589c006e54"
    }
   }
  }
 },
 "nbformat": 4,
 "nbformat_minor": 2,
 "cells": [
  {
   "source": [
    "# Session 10 Regular Polygon Class"
   ],
   "cell_type": "markdown",
   "metadata": {}
  },
  {
   "cell_type": "code",
   "execution_count": 2,
   "metadata": {},
   "outputs": [],
   "source": [
    "import Session10 as rp\n",
    "import session10_regular_poly_seq as ps"
   ]
  },
  {
   "source": [
    "# Group 1\n",
    "\n",
    "## Create a Polygon Class:\n",
    "### where initializer takes in:\n",
    "### number of edges/vertices\n",
    "### circumradius that can provide these properties:\n",
    "### edges\n",
    "### vertices\n",
    "### interior angle\n",
    "### edge length\n",
    "### apothem\n",
    "### area\n",
    "### perimeter\n",
    "## That has these functionalities:\n",
    "### a proper __repr__ function\n",
    "### implements equality (==) based on # vertices and circumradius (__eq__)\n",
    "### implements > based on number of vertices only (__gt__)\n"
   ],
   "cell_type": "markdown",
   "metadata": {}
  },
  {
   "cell_type": "code",
   "execution_count": 3,
   "metadata": {},
   "outputs": [
    {
     "output_type": "stream",
     "name": "stdout",
     "text": [
      "Regular Polygon:-\n number of vertices = 4,\n radius = 4,                  \n interior angle = 114.59155902616465, \n edge length = 5.65685424949238,                  \n apothem = 2.8284271247461903, \n area = 32.0, \n perimeter = 22.62741699796952\n"
     ]
    }
   ],
   "source": [
    "square = rp.RegularPoly(4,4)\n",
    "print(square)\n"
   ]
  },
  {
   "cell_type": "code",
   "execution_count": 4,
   "metadata": {},
   "outputs": [],
   "source": [
    "triangle = rp.RegularPoly(3,3)"
   ]
  },
  {
   "cell_type": "code",
   "execution_count": 5,
   "metadata": {},
   "outputs": [
    {
     "output_type": "stream",
     "name": "stdout",
     "text": [
      "Regular Polygon:-\n number of vertices = 3,\n radius = 3,                  \n interior angle = 57.29577951308232, \n edge length = 5.196152422706632,                  \n apothem = 1.5000000000000004, \n area = 11.691342951089926, \n perimeter = 15.588457268119896\n"
     ]
    }
   ],
   "source": [
    "print(triangle)"
   ]
  },
  {
   "cell_type": "code",
   "execution_count": 6,
   "metadata": {},
   "outputs": [
    {
     "output_type": "execute_result",
     "data": {
      "text/plain": [
       "False"
      ]
     },
     "metadata": {},
     "execution_count": 6
    }
   ],
   "source": [
    "square == triangle"
   ]
  },
  {
   "source": [
    "# Group 2\n",
    "\n",
    "## Implement a Custom Polygon sequence type:\n",
    "## where initializer takes in:\n",
    "### number of vertices for largest polygon in the sequence\n",
    "### common circumradius for all polygons\n",
    "## that can provide these properties:\n",
    "### max efficiency polygon: returns the Polygon with the highest area: perimeter ratio\n",
    "### that has these functionalities:\n",
    "### functions as a sequence type (__getitem__)\n",
    "### supports the len() function (__len__)\n",
    "### has a proper representation (__repr__)"
   ],
   "cell_type": "markdown",
   "metadata": {}
  },
  {
   "cell_type": "code",
   "execution_count": 7,
   "metadata": {},
   "outputs": [],
   "source": [
    "poly_25 = ps.RegularPolySeq(25,3)"
   ]
  },
  {
   "cell_type": "code",
   "execution_count": 8,
   "metadata": {},
   "outputs": [
    {
     "output_type": "execute_result",
     "data": {
      "text/plain": [
       "[(RegularPoly(3, 3), 0.7500000000000002),\n",
       " (RegularPoly(4, 3), 1.0606601717798214),\n",
       " (RegularPoly(5, 3), 1.2135254915624212),\n",
       " (RegularPoly(6, 3), 1.299038105676658),\n",
       " (RegularPoly(7, 3), 1.3514533018536288),\n",
       " (RegularPoly(8, 3), 1.38581929876693),\n",
       " (RegularPoly(9, 3), 1.4095389311788626),\n",
       " (RegularPoly(10, 3), 1.4265847744427302),\n",
       " (RegularPoly(11, 3), 1.439239460421746),\n",
       " (RegularPoly(12, 3), 1.4488887394336025),\n",
       " (RegularPoly(13, 3), 1.456412726139078),\n",
       " (RegularPoly(14, 3), 1.4623918682727355),\n",
       " (RegularPoly(15, 3), 1.4672214011007085),\n",
       " (RegularPoly(16, 3), 1.4711779206048456),\n",
       " (RegularPoly(17, 3), 1.4744596495258526),\n",
       " (RegularPoly(18, 3), 1.477211629518312),\n",
       " (RegularPoly(19, 3), 1.4795419551040836),\n",
       " (RegularPoly(20, 3), 1.4815325108927067),\n",
       " (RegularPoly(21, 3), 1.4832462393376928),\n",
       " (RegularPoly(22, 3), 1.484732162821399),\n",
       " (RegularPoly(23, 3), 1.4860289190544962),\n",
       " (RegularPoly(24, 3), 1.4871672920607155),\n",
       " (RegularPoly(25, 3), 1.4881720519717168)]"
      ]
     },
     "metadata": {},
     "execution_count": 8
    }
   ],
   "source": [
    "list(poly_25)"
   ]
  },
  {
   "cell_type": "code",
   "execution_count": 9,
   "metadata": {},
   "outputs": [
    {
     "output_type": "execute_result",
     "data": {
      "text/plain": [
       "(RegularPoly(4, 3), 1.0606601717798214)"
      ]
     },
     "metadata": {},
     "execution_count": 9
    }
   ],
   "source": [
    "poly_25.__getitem__(1)"
   ]
  },
  {
   "cell_type": "code",
   "execution_count": 10,
   "metadata": {},
   "outputs": [
    {
     "output_type": "execute_result",
     "data": {
      "text/plain": [
       "23"
      ]
     },
     "metadata": {},
     "execution_count": 10
    }
   ],
   "source": [
    "poly_25.__len__()"
   ]
  },
  {
   "cell_type": "code",
   "execution_count": 11,
   "metadata": {},
   "outputs": [
    {
     "output_type": "execute_result",
     "data": {
      "text/plain": [
       "'RegularPolySeq(25, 3)'"
      ]
     },
     "metadata": {},
     "execution_count": 11
    }
   ],
   "source": [
    "\n",
    "poly_25.__repr__()"
   ]
  },
  {
   "cell_type": "code",
   "execution_count": 13,
   "metadata": {},
   "outputs": [
    {
     "output_type": "stream",
     "name": "stdout",
     "text": [
      "Polygon sequence with seq_len = 23 and common cirum_radius = 3\n"
     ]
    }
   ],
   "source": [
    "print(poly_25)\n"
   ]
  },
  {
   "cell_type": "code",
   "execution_count": 15,
   "metadata": {},
   "outputs": [
    {
     "output_type": "execute_result",
     "data": {
      "text/plain": [
       "RegularPoly(25, 3)"
      ]
     },
     "metadata": {},
     "execution_count": 15
    }
   ],
   "source": [
    "poly_25.max_efficiency_poly\n"
   ]
  },
  {
   "cell_type": "code",
   "execution_count": null,
   "metadata": {},
   "outputs": [],
   "source": []
  }
 ]
}